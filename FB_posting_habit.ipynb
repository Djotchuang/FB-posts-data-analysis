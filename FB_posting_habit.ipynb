{
 "cells": [
  {
   "cell_type": "markdown",
   "metadata": {},
   "source": [
    "# <center>MY FACEBOOK POSTING HABITS</center>\n",
    "\n",
    "Hello, I am **Karl Djotchuang Tamo**, a Datascience enthusiast.\n",
    "\n",
    "In this notebook, we'll analyze my Facebook posts data. The aim is to answer two questions:<br />\n",
    "\n",
    "**1. How often do I post on Facebook?**<br />\n",
    "**2. Am I using Facebook more or less than I used to?**\n",
    "\n",
    "This analysis was inspired by a post by [**DataQuest's Charlie Custer**](https://www.dataquest.io/blog/analyze-facebook-data-python/). Here's a link to the analysis he made:\n",
    "\n",
    "We will analyze the data using pandas and then create a visualization to elicit the findings (bar chart) using seaborn and matplotlib at the end.\n",
    "\n",
    "Our Facebook usage data is available on Facebook for free, all one needs do is to request for it. Here, we downloaded data related to posts only (in JSON format). You can get your own FB usage data [here](https://www.facebook.com/dyi/?referrer=yfi_settings)"
   ]
  },
  {
   "cell_type": "markdown",
   "metadata": {},
   "source": [
    "## Step 1: Import and Format the Data"
   ]
  },
  {
   "cell_type": "code",
   "execution_count": 35,
   "metadata": {},
   "outputs": [],
   "source": [
    "import pandas as pd"
   ]
  },
  {
   "cell_type": "code",
   "execution_count": 36,
   "metadata": {},
   "outputs": [
    {
     "data": {
      "text/html": [
       "<div>\n",
       "<style scoped>\n",
       "    .dataframe tbody tr th:only-of-type {\n",
       "        vertical-align: middle;\n",
       "    }\n",
       "\n",
       "    .dataframe tbody tr th {\n",
       "        vertical-align: top;\n",
       "    }\n",
       "\n",
       "    .dataframe thead th {\n",
       "        text-align: right;\n",
       "    }\n",
       "</style>\n",
       "<table border=\"1\" class=\"dataframe\">\n",
       "  <thead>\n",
       "    <tr style=\"text-align: right;\">\n",
       "      <th></th>\n",
       "      <th>timestamp</th>\n",
       "      <th>data</th>\n",
       "      <th>title</th>\n",
       "      <th>tags</th>\n",
       "      <th>attachments</th>\n",
       "    </tr>\n",
       "  </thead>\n",
       "  <tbody>\n",
       "    <tr>\n",
       "      <th>0</th>\n",
       "      <td>2015-01-14 11:55:35</td>\n",
       "      <td>[]</td>\n",
       "      <td>Karl Djotchuang Tamo updated his status.</td>\n",
       "      <td>NaN</td>\n",
       "      <td>NaN</td>\n",
       "    </tr>\n",
       "    <tr>\n",
       "      <th>1</th>\n",
       "      <td>2015-01-14 15:58:08</td>\n",
       "      <td>[]</td>\n",
       "      <td>Karl Djotchuang Tamo updated his status.</td>\n",
       "      <td>NaN</td>\n",
       "      <td>NaN</td>\n",
       "    </tr>\n",
       "    <tr>\n",
       "      <th>2</th>\n",
       "      <td>2015-01-14 16:00:21</td>\n",
       "      <td>[]</td>\n",
       "      <td>Karl Djotchuang Tamo updated his status.</td>\n",
       "      <td>NaN</td>\n",
       "      <td>NaN</td>\n",
       "    </tr>\n",
       "    <tr>\n",
       "      <th>3</th>\n",
       "      <td>2015-01-14 16:09:05</td>\n",
       "      <td>[]</td>\n",
       "      <td>Karl Djotchuang Tamo updated his status.</td>\n",
       "      <td>NaN</td>\n",
       "      <td>NaN</td>\n",
       "    </tr>\n",
       "    <tr>\n",
       "      <th>4</th>\n",
       "      <td>2015-01-14 19:24:22</td>\n",
       "      <td>[]</td>\n",
       "      <td>Karl Djotchuang Tamo updated his status.</td>\n",
       "      <td>NaN</td>\n",
       "      <td>NaN</td>\n",
       "    </tr>\n",
       "  </tbody>\n",
       "</table>\n",
       "</div>"
      ],
      "text/plain": [
       "            timestamp data                                     title tags  \\\n",
       "0 2015-01-14 11:55:35   []  Karl Djotchuang Tamo updated his status.  NaN   \n",
       "1 2015-01-14 15:58:08   []  Karl Djotchuang Tamo updated his status.  NaN   \n",
       "2 2015-01-14 16:00:21   []  Karl Djotchuang Tamo updated his status.  NaN   \n",
       "3 2015-01-14 16:09:05   []  Karl Djotchuang Tamo updated his status.  NaN   \n",
       "4 2015-01-14 19:24:22   []  Karl Djotchuang Tamo updated his status.  NaN   \n",
       "\n",
       "  attachments  \n",
       "0         NaN  \n",
       "1         NaN  \n",
       "2         NaN  \n",
       "3         NaN  \n",
       "4         NaN  "
      ]
     },
     "execution_count": 36,
     "metadata": {},
     "output_type": "execute_result"
    }
   ],
   "source": [
    "# create a dataframe of the data using the JSON file\n",
    "df = pd.read_json('./posts/your_posts_1.json')\n",
    "\n",
    "df.head()"
   ]
  },
  {
   "cell_type": "code",
   "execution_count": 37,
   "metadata": {},
   "outputs": [
    {
     "data": {
      "text/html": [
       "<div>\n",
       "<style scoped>\n",
       "    .dataframe tbody tr th:only-of-type {\n",
       "        vertical-align: middle;\n",
       "    }\n",
       "\n",
       "    .dataframe tbody tr th {\n",
       "        vertical-align: top;\n",
       "    }\n",
       "\n",
       "    .dataframe thead th {\n",
       "        text-align: right;\n",
       "    }\n",
       "</style>\n",
       "<table border=\"1\" class=\"dataframe\">\n",
       "  <thead>\n",
       "    <tr style=\"text-align: right;\">\n",
       "      <th></th>\n",
       "      <th>timestamp</th>\n",
       "      <th>data</th>\n",
       "      <th>title</th>\n",
       "      <th>tags</th>\n",
       "      <th>attachments</th>\n",
       "    </tr>\n",
       "  </thead>\n",
       "  <tbody>\n",
       "    <tr>\n",
       "      <th>154</th>\n",
       "      <td>2021-01-24 12:07:18</td>\n",
       "      <td>[{'post': 'I identify with this message strong...</td>\n",
       "      <td>NaN</td>\n",
       "      <td>NaN</td>\n",
       "      <td>[]</td>\n",
       "    </tr>\n",
       "    <tr>\n",
       "      <th>155</th>\n",
       "      <td>2021-02-07 20:40:03</td>\n",
       "      <td>[{'post': '#i_have_accepted_jesus_christ_as_my...</td>\n",
       "      <td>NaN</td>\n",
       "      <td>NaN</td>\n",
       "      <td>[{'data': [{'media': {'uri': 'photos_and_video...</td>\n",
       "    </tr>\n",
       "    <tr>\n",
       "      <th>156</th>\n",
       "      <td>2021-03-21 18:20:10</td>\n",
       "      <td>[{'post': 'Do you use your skills in Church?\n",
       "\n",
       "...</td>\n",
       "      <td>NaN</td>\n",
       "      <td>NaN</td>\n",
       "      <td>[{'data': [{'media': {'uri': 'photos_and_video...</td>\n",
       "    </tr>\n",
       "    <tr>\n",
       "      <th>157</th>\n",
       "      <td>2021-07-02 21:34:56</td>\n",
       "      <td>[{'post': 'Our amazing team at Tyne Networks a...</td>\n",
       "      <td>NaN</td>\n",
       "      <td>[Chriss Tyne, Constant Sonhana Fopa, Nkome Cha...</td>\n",
       "      <td>[{'data': [{'media': {'uri': 'photos_and_video...</td>\n",
       "    </tr>\n",
       "    <tr>\n",
       "      <th>158</th>\n",
       "      <td>2021-07-05 18:19:57</td>\n",
       "      <td>[]</td>\n",
       "      <td>NaN</td>\n",
       "      <td>NaN</td>\n",
       "      <td>[{'data': [{'media': {'uri': 'photos_and_video...</td>\n",
       "    </tr>\n",
       "  </tbody>\n",
       "</table>\n",
       "</div>"
      ],
      "text/plain": [
       "              timestamp                                               data  \\\n",
       "154 2021-01-24 12:07:18  [{'post': 'I identify with this message strong...   \n",
       "155 2021-02-07 20:40:03  [{'post': '#i_have_accepted_jesus_christ_as_my...   \n",
       "156 2021-03-21 18:20:10  [{'post': 'Do you use your skills in Church?\n",
       "\n",
       "...   \n",
       "157 2021-07-02 21:34:56  [{'post': 'Our amazing team at Tyne Networks a...   \n",
       "158 2021-07-05 18:19:57                                                 []   \n",
       "\n",
       "    title                                               tags  \\\n",
       "154   NaN                                                NaN   \n",
       "155   NaN                                                NaN   \n",
       "156   NaN                                                NaN   \n",
       "157   NaN  [Chriss Tyne, Constant Sonhana Fopa, Nkome Cha...   \n",
       "158   NaN                                                NaN   \n",
       "\n",
       "                                           attachments  \n",
       "154                                                 []  \n",
       "155  [{'data': [{'media': {'uri': 'photos_and_video...  \n",
       "156  [{'data': [{'media': {'uri': 'photos_and_video...  \n",
       "157  [{'data': [{'media': {'uri': 'photos_and_video...  \n",
       "158  [{'data': [{'media': {'uri': 'photos_and_video...  "
      ]
     },
     "execution_count": 37,
     "metadata": {},
     "output_type": "execute_result"
    }
   ],
   "source": [
    "df.tail()"
   ]
  },
  {
   "cell_type": "markdown",
   "metadata": {},
   "source": [
    "It appears the structure for storing data in the _'data'_ and _'title'_ columns have change from when I made my first post in 2015 till date."
   ]
  },
  {
   "cell_type": "markdown",
   "metadata": {},
   "source": [
    "Our 'data' column has data which is still in the JSON format. To answer our questions in this analysis, we don't need to deal with the actual post content, or with other information like attached media files. We're just concerned with how I have made new posts.\n",
    "\n",
    "Next, we'll rename the 'timestamp' column to 'post date' and convert it to a datetime object. We will also rename the 'data' column to 'post content' to give it some context. Finally, we will drop some of the unnecessary columns such as (title, attachments, and tags) just to have smaller and clearer data to work with."
   ]
  },
  {
   "cell_type": "code",
   "execution_count": 38,
   "metadata": {},
   "outputs": [
    {
     "data": {
      "text/html": [
       "<div>\n",
       "<style scoped>\n",
       "    .dataframe tbody tr th:only-of-type {\n",
       "        vertical-align: middle;\n",
       "    }\n",
       "\n",
       "    .dataframe tbody tr th {\n",
       "        vertical-align: top;\n",
       "    }\n",
       "\n",
       "    .dataframe thead th {\n",
       "        text-align: right;\n",
       "    }\n",
       "</style>\n",
       "<table border=\"1\" class=\"dataframe\">\n",
       "  <thead>\n",
       "    <tr style=\"text-align: right;\">\n",
       "      <th></th>\n",
       "      <th>timestamp</th>\n",
       "      <th>data</th>\n",
       "      <th>title</th>\n",
       "      <th>tags</th>\n",
       "      <th>attachments</th>\n",
       "    </tr>\n",
       "  </thead>\n",
       "  <tbody>\n",
       "    <tr>\n",
       "      <th>154</th>\n",
       "      <td>2021-01-24 12:07:18</td>\n",
       "      <td>[{'post': 'I identify with this message strong...</td>\n",
       "      <td>NaN</td>\n",
       "      <td>NaN</td>\n",
       "      <td>[]</td>\n",
       "    </tr>\n",
       "    <tr>\n",
       "      <th>155</th>\n",
       "      <td>2021-02-07 20:40:03</td>\n",
       "      <td>[{'post': '#i_have_accepted_jesus_christ_as_my...</td>\n",
       "      <td>NaN</td>\n",
       "      <td>NaN</td>\n",
       "      <td>[{'data': [{'media': {'uri': 'photos_and_video...</td>\n",
       "    </tr>\n",
       "    <tr>\n",
       "      <th>156</th>\n",
       "      <td>2021-03-21 18:20:10</td>\n",
       "      <td>[{'post': 'Do you use your skills in Church?\n",
       "\n",
       "...</td>\n",
       "      <td>NaN</td>\n",
       "      <td>NaN</td>\n",
       "      <td>[{'data': [{'media': {'uri': 'photos_and_video...</td>\n",
       "    </tr>\n",
       "    <tr>\n",
       "      <th>157</th>\n",
       "      <td>2021-07-02 21:34:56</td>\n",
       "      <td>[{'post': 'Our amazing team at Tyne Networks a...</td>\n",
       "      <td>NaN</td>\n",
       "      <td>[Chriss Tyne, Constant Sonhana Fopa, Nkome Cha...</td>\n",
       "      <td>[{'data': [{'media': {'uri': 'photos_and_video...</td>\n",
       "    </tr>\n",
       "    <tr>\n",
       "      <th>158</th>\n",
       "      <td>2021-07-05 18:19:57</td>\n",
       "      <td>[]</td>\n",
       "      <td>NaN</td>\n",
       "      <td>NaN</td>\n",
       "      <td>[{'data': [{'media': {'uri': 'photos_and_video...</td>\n",
       "    </tr>\n",
       "  </tbody>\n",
       "</table>\n",
       "</div>"
      ],
      "text/plain": [
       "              timestamp                                               data  \\\n",
       "154 2021-01-24 12:07:18  [{'post': 'I identify with this message strong...   \n",
       "155 2021-02-07 20:40:03  [{'post': '#i_have_accepted_jesus_christ_as_my...   \n",
       "156 2021-03-21 18:20:10  [{'post': 'Do you use your skills in Church?\n",
       "\n",
       "...   \n",
       "157 2021-07-02 21:34:56  [{'post': 'Our amazing team at Tyne Networks a...   \n",
       "158 2021-07-05 18:19:57                                                 []   \n",
       "\n",
       "    title                                               tags  \\\n",
       "154   NaN                                                NaN   \n",
       "155   NaN                                                NaN   \n",
       "156   NaN                                                NaN   \n",
       "157   NaN  [Chriss Tyne, Constant Sonhana Fopa, Nkome Cha...   \n",
       "158   NaN                                                NaN   \n",
       "\n",
       "                                           attachments  \n",
       "154                                                 []  \n",
       "155  [{'data': [{'media': {'uri': 'photos_and_video...  \n",
       "156  [{'data': [{'media': {'uri': 'photos_and_video...  \n",
       "157  [{'data': [{'media': {'uri': 'photos_and_video...  \n",
       "158  [{'data': [{'media': {'uri': 'photos_and_video...  "
      ]
     },
     "execution_count": 38,
     "metadata": {},
     "output_type": "execute_result"
    }
   ],
   "source": [
    "df.tail()"
   ]
  },
  {
   "cell_type": "code",
   "execution_count": 39,
   "metadata": {},
   "outputs": [
    {
     "data": {
      "text/html": [
       "<div>\n",
       "<style scoped>\n",
       "    .dataframe tbody tr th:only-of-type {\n",
       "        vertical-align: middle;\n",
       "    }\n",
       "\n",
       "    .dataframe tbody tr th {\n",
       "        vertical-align: top;\n",
       "    }\n",
       "\n",
       "    .dataframe thead th {\n",
       "        text-align: right;\n",
       "    }\n",
       "</style>\n",
       "<table border=\"1\" class=\"dataframe\">\n",
       "  <thead>\n",
       "    <tr style=\"text-align: right;\">\n",
       "      <th></th>\n",
       "      <th>post date</th>\n",
       "      <th>post content</th>\n",
       "    </tr>\n",
       "  </thead>\n",
       "  <tbody>\n",
       "    <tr>\n",
       "      <th>0</th>\n",
       "      <td>2015-01-14 11:55:35</td>\n",
       "      <td>[]</td>\n",
       "    </tr>\n",
       "    <tr>\n",
       "      <th>1</th>\n",
       "      <td>2015-01-14 15:58:08</td>\n",
       "      <td>[]</td>\n",
       "    </tr>\n",
       "    <tr>\n",
       "      <th>2</th>\n",
       "      <td>2015-01-14 16:00:21</td>\n",
       "      <td>[]</td>\n",
       "    </tr>\n",
       "    <tr>\n",
       "      <th>3</th>\n",
       "      <td>2015-01-14 16:09:05</td>\n",
       "      <td>[]</td>\n",
       "    </tr>\n",
       "    <tr>\n",
       "      <th>4</th>\n",
       "      <td>2015-01-14 19:24:22</td>\n",
       "      <td>[]</td>\n",
       "    </tr>\n",
       "  </tbody>\n",
       "</table>\n",
       "</div>"
      ],
      "text/plain": [
       "            post date post content\n",
       "0 2015-01-14 11:55:35           []\n",
       "1 2015-01-14 15:58:08           []\n",
       "2 2015-01-14 16:00:21           []\n",
       "3 2015-01-14 16:09:05           []\n",
       "4 2015-01-14 19:24:22           []"
      ]
     },
     "execution_count": 39,
     "metadata": {},
     "output_type": "execute_result"
    }
   ],
   "source": [
    "# rename the timestamp column\n",
    "df.rename(columns={'timestamp': 'post date', 'data': 'post content'}, inplace=True)\n",
    "\n",
    "#drop some unnecessary columns\n",
    "df = df.drop(['title', 'attachments', 'tags'], axis=1)\n",
    "\n",
    "# convert timestamp data to a datetime object\n",
    "pd.to_datetime(df['post date'])\n",
    "\n",
    "df.head()"
   ]
  },
  {
   "cell_type": "markdown",
   "metadata": {},
   "source": [
    "We have only the necessary columns now and the data looks cleaner. The rows of post content data that are empty (presented as []) are either posts which I had deleted, or those which only had pictures or posts without any text(caption). The pictures are linked in the 'attachments' column which we have already deleted"
   ]
  },
  {
   "cell_type": "markdown",
   "metadata": {},
   "source": [
    "## Step 2: Obtaining Monthly Post Counts"
   ]
  },
  {
   "cell_type": "markdown",
   "metadata": {},
   "source": [
    "Given that we're spanning years of history here, grouping our 'post date' column by months, and counting how many rows (i.e., posts) are associated with each month looks to be the best approach.\n",
    "\n",
    "This means we need to do two things here:\n",
    "\n",
    "- Set the post date column as the index of our dataframe.\n",
    "- Resample the data by month, counting how many posts occur in each month."
   ]
  },
  {
   "cell_type": "code",
   "execution_count": 105,
   "metadata": {},
   "outputs": [
    {
     "data": {
      "text/plain": [
       "post date\n",
       "2015-01-01    17\n",
       "2015-02-01    12\n",
       "2015-03-01     4\n",
       "2015-04-01     1\n",
       "2015-05-01     1\n",
       "              ..\n",
       "2021-03-01     1\n",
       "2021-04-01     0\n",
       "2021-05-01     0\n",
       "2021-06-01     0\n",
       "2021-07-01     2\n",
       "Freq: MS, Name: post content, Length: 79, dtype: int64"
      ]
     },
     "execution_count": 105,
     "metadata": {},
     "output_type": "execute_result"
    }
   ],
   "source": [
    "# Setting the post date column as index\n",
    "df = df.set_index('post date')\n",
    "\n",
    "# Obtaining the counts per month\n",
    "post_counts = df['post content'].resample('MS').size()\n",
    "post_counts"
   ]
  },
  {
   "cell_type": "code",
   "execution_count": 102,
   "metadata": {},
   "outputs": [
    {
     "data": {
      "text/plain": [
       "post date\n",
       "2016-06-01    20\n",
       "2015-01-01    17\n",
       "2015-02-01    12\n",
       "2016-09-01    10\n",
       "2015-07-01     6\n",
       "              ..\n",
       "2017-03-01     0\n",
       "2017-02-01     0\n",
       "2020-03-01     0\n",
       "2020-04-01     0\n",
       "2018-04-01     0\n",
       "Name: post content, Length: 79, dtype: int64"
      ]
     },
     "execution_count": 102,
     "metadata": {},
     "output_type": "execute_result"
    }
   ],
   "source": [
    "post_counts.sort_values(ascending=False)"
   ]
  },
  {
   "cell_type": "markdown",
   "metadata": {},
   "source": [
    "## Step 3: Visualizing Our Findings"
   ]
  },
  {
   "cell_type": "code",
   "execution_count": 48,
   "metadata": {},
   "outputs": [],
   "source": [
    "%%capture\n",
    "\n",
    "!pip install seaborn"
   ]
  },
  {
   "cell_type": "code",
   "execution_count": 99,
   "metadata": {},
   "outputs": [
    {
     "data": {
      "text/plain": [
       "DatetimeIndex(['2015-01-01', '2016-01-01', '2017-01-01', '2018-01-01',\n",
       "               '2019-01-01', '2020-01-01', '2021-01-01'],\n",
       "              dtype='datetime64[ns]', name='post date', freq=None)"
      ]
     },
     "execution_count": 99,
     "metadata": {},
     "output_type": "execute_result"
    }
   ],
   "source": [
    "post_counts.index[np.arange(0, len(post_counts.index), step=12)]"
   ]
  },
  {
   "cell_type": "code",
   "execution_count": 101,
   "metadata": {},
   "outputs": [
    {
     "data": {
      "image/png": "[encoded data removed]",
      "text/plain": [
       "<Figure size 3240x1440 with 1 Axes>"
      ]
     },
     "metadata": {},
     "output_type": "display_data"
    }
   ],
   "source": [
    "%matplotlib inline\n",
    "import matplotlib.pyplot as plt\n",
    "import seaborn as sns\n",
    "import numpy as np\n",
    "\n",
    "# set figure size and font size\n",
    "sns.set(rc={'figure.figsize':(45,20)})\n",
    "sns.set(font_scale=3)\n",
    "\n",
    "# set x labels\n",
    "x_labels = post_counts.index\n",
    "\n",
    "# create bar plot\n",
    "sns.barplot(x=x_labels, y=post_counts, color=\"orange\")\n",
    "\n",
    "# only show x-axis labels for Jan 1 of every other year\n",
    "tick_positions = np.arange(0, len(x_labels), step=12)\n",
    "\n",
    "# reformat date to display year only\n",
    "plt.ylabel(\"Post Counts\")\n",
    "plt.xlabel(\"Post Years\")\n",
    "plt.xticks(tick_positions, x_labels[tick_positions].strftime(\"%Y\"))\n",
    "\n",
    "# display the plot\n",
    "plt.show()"
   ]
  },
  {
   "cell_type": "markdown",
   "metadata": {},
   "source": [
    "The chart above represents my personal Facebook data (from Jan 2015 when I joined - July 2021) — we can see that I posted regularly on Facebook in the early months — I was excited at the time and wanted to show the world. The trend dropped to zero posts around June, but picked up gradually thereafter. \n",
    "\n",
    "In June, 2016, I posted the highest number of times and have had irregular posting habits since then. I even stopped posting on Facebook entirely for several periods in all the years. 2016 was the year in which I posted most regularly.\n",
    "\n",
    "It appears I haven't been posting a lot this year — that'll probably change considering I'm set to be more active as I'll be posting interesting outcomes of my learning/career journey.\n",
    "\n",
    "In this notebook we've done the following:\n",
    "\n",
    "- We read a JSON file of my FB data in a pandas DataFrame.\n",
    "- We broke the data down by month and counted the number of posts per month.\n",
    "- We visualized my Facebook usage and learned this: *I used to spend more time on Facebook in the early days compared to now.*"
   ]
  }
 ],
 "metadata": {
  "kernelspec": {
   "display_name": "Python 3",
   "language": "python",
   "name": "python3"
  },
  "language_info": {
   "codemirror_mode": {
    "name": "ipython",
    "version": 3
   },
   "file_extension": ".py",
   "mimetype": "text/x-python",
   "name": "python",
   "nbconvert_exporter": "python",
   "pygments_lexer": "ipython3",
   "version": "3.6.8"
  }
 },
 "nbformat": 4,
 "nbformat_minor": 2
}
